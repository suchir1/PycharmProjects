{
 "cells": [
  {
   "cell_type": "code",
   "execution_count": null,
   "metadata": {
    "collapsed": true
   },
   "outputs": [],
   "source": [
    "from SEARCH_BING_MODULE import bingURL\n",
    "from SEARCH_YAHOO_MODULE import yahooURL\n",
    "from SVO_SENT_MODULE_spacy import SVOSENT\n",
    "import time"
   ]
  },
  {
   "cell_type": "code",
   "execution_count": null,
   "metadata": {
    "collapsed": true
   },
   "outputs": [],
   "source": [
    "Subject='North Korea'\n",
    "CAMEO= 'Threaten unconventional attack'\n",
    "Object=''\n",
    "sentence=Subject+' '+CAMEO+' '+Object # subject+cameo code"
   ]
  },
  {
   "cell_type": "code",
   "execution_count": null,
   "metadata": {},
   "outputs": [],
   "source": [
    "bing=bingURL()\n",
    "t0=time.time()\n",
    "urls=bing.search_urls(sentence,5)\n",
    "t1=time.time()\n",
    "print('time cost:',t1-t0)\n",
    "print('#urls found:',len(urls))"
   ]
  },
  {
   "cell_type": "code",
   "execution_count": null,
   "metadata": {
    "scrolled": false
   },
   "outputs": [],
   "source": [
    "import SCRAPER\n",
    "articles=SCRAPER.scrape_from_urls(urls)"
   ]
  },
  {
   "cell_type": "code",
   "execution_count": null,
   "metadata": {
    "scrolled": false
   },
   "outputs": [],
   "source": [
    "svo_sent = SVOSENT()\n",
    "import pandas as pd\n",
    "articles=svo_sent.split_and_clean(articles)\n",
    "import time\n",
    "t0=time.time()\n",
    "results=[]\n",
    "for i,article in enumerate(articles):\n",
    "    try:\n",
    "        result=svo_sent.svo_senti_from_article(article)\n",
    "        results.append(result)\n",
    "        print(i+1,'th/',len(articles),'article is done')\n",
    "        \n",
    "    except Exception as e: \n",
    "        print(i,'th article has error:',e)\n",
    "#result2=svo_sent.svo_senti_from_article(article,'Robin')\n",
    "t1=time.time()\n",
    "results=pd.concat(results, axis=0)\n",
    "print('time cost',end=':')\n",
    "print(t1-t0)\n",
    "\n",
    "#svo_sent.WriteCSV(results,'corpus4_full_dataset')"
   ]
  },
  {
   "cell_type": "code",
   "execution_count": null,
   "metadata": {
    "scrolled": false
   },
   "outputs": [],
   "source": [
    "results"
   ]
  },
  {
   "cell_type": "code",
   "execution_count": null,
   "metadata": {
    "collapsed": true
   },
   "outputs": [],
   "source": [
    "results.to_csv('test2.csv',index=False)"
   ]
  },
  {
   "cell_type": "code",
   "execution_count": null,
   "metadata": {
    "collapsed": true
   },
   "outputs": [],
   "source": [
    "import CAMEO_CONVERT\n",
    "results['Names']= results['Names'].apply(lambda x : CAMEO_CONVERT.toCAMEO(x))"
   ]
  },
  {
   "cell_type": "code",
   "execution_count": null,
   "metadata": {
    "scrolled": false
   },
   "outputs": [],
   "source": [
    "results"
   ]
  },
  {
   "cell_type": "raw",
   "metadata": {},
   "source": []
  },
  {
   "cell_type": "code",
   "execution_count": null,
   "metadata": {
    "collapsed": true
   },
   "outputs": [],
   "source": [
    "import numpy as np\n",
    "df = pd.DataFrame({'A' : ['foo', 'bar', 'foo', 'bar',\n",
    "                              'foo', 'bar', 'foo', 'foo'],\n",
    "                   'B' : ['one', 'one', 'two', 'three',\n",
    "                         'two', 'two', 'one', 'three'],\n",
    "                   'C' : np.random.randn(8),\n",
    "                   'D' : np.random.randn(8)})"
   ]
  },
  {
   "cell_type": "code",
   "execution_count": null,
   "metadata": {},
   "outputs": [],
   "source": [
    "df[['A'.'B']].groupby('A').apply"
   ]
  },
  {
   "cell_type": "code",
   "execution_count": null,
   "metadata": {
    "collapsed": true
   },
   "outputs": [],
   "source": []
  }
 ],
 "metadata": {
  "kernelspec": {
   "display_name": "Python 3",
   "language": "python",
   "name": "python3"
  },
  "language_info": {
   "codemirror_mode": {
    "name": "ipython",
    "version": 3
   },
   "file_extension": ".py",
   "mimetype": "text/x-python",
   "name": "python",
   "nbconvert_exporter": "python",
   "pygments_lexer": "ipython3",
   "version": "3.6.1"
  }
 },
 "nbformat": 4,
 "nbformat_minor": 2
}
